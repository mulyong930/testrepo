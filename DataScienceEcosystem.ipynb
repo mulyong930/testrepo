{
 "cells": [
  {
   "cell_type": "markdown",
   "id": "e1d211a1-61f5-42f4-b5fa-06a175f18204",
   "metadata": {},
   "source": [
    "<h1> Data Science Tools and Ecosystem </h1>"
   ]
  },
  {
   "cell_type": "markdown",
   "id": "85152073-151c-4d6d-ac98-23abbac05cf4",
   "metadata": {},
   "source": [
    "## In this notebook, Data Science Tools and Ecosystem are summarized."
   ]
  },
  {
   "cell_type": "markdown",
   "id": "2f70d350-6de0-4a8c-9767-7dffae7abbee",
   "metadata": {},
   "source": [
    "<p style=\"font-weight:bold\"> Objectives:</p>"
   ]
  },
  {
   "cell_type": "markdown",
   "id": "23918538-2c54-4529-8750-9cd4571f7f19",
   "metadata": {},
   "source": [
    "* Python\n",
    "* Julia\n",
    "* Java\n",
    "* R\n",
    "* IBMCloud"
   ]
  },
  {
   "cell_type": "markdown",
   "id": "10bc284a-b799-4399-ba4d-ca1954ff62fc",
   "metadata": {},
   "source": [
    "### Some of the popular languages that Data Scientists use are:"
   ]
  },
  {
   "cell_type": "markdown",
   "id": "105e284a-0520-41d1-a846-86f0c0b382da",
   "metadata": {},
   "source": [
    "1. Python\n",
    "2. R\n",
    "3. C++"
   ]
  },
  {
   "cell_type": "markdown",
   "id": "23c7fcc4-1187-4c8a-87a0-771e567f3af6",
   "metadata": {},
   "source": [
    "### Some of the commonly used libraries used by Data Scientists include:"
   ]
  },
  {
   "cell_type": "markdown",
   "id": "27fe1c31-c15b-448d-a7ba-9c1a2e9763cb",
   "metadata": {},
   "source": [
    "1. pandas\n",
    "2. numpy\n",
    "3. matplotlib"
   ]
  },
  {
   "cell_type": "markdown",
   "id": "e5027bbb-5714-499a-85fb-057c183dc0d0",
   "metadata": {},
   "source": [
    "|Data Science Tools|\n",
    "--------------------\n",
    "|Jupyterlab|\n",
    "|Visualcode|\n",
    "|RStudio|"
   ]
  },
  {
   "cell_type": "markdown",
   "id": "536c3303-5a9c-4ee0-ad6e-7671b7ddd972",
   "metadata": {},
   "source": [
    "<h3> Below are a few examples of evaluating arithmetic expressions in Python </h3>"
   ]
  },
  {
   "cell_type": "markdown",
   "id": "9d70a9f8-0c5a-43b2-a1ac-4facc64a74b5",
   "metadata": {},
   "source": [
    "This a simple arithmetic expression to mutiply then add integers <br>"
   ]
  },
  {
   "cell_type": "code",
   "execution_count": 17,
   "id": "2eea95d7-fb4e-4e8a-ba4f-3b46d37ba457",
   "metadata": {},
   "outputs": [
    {
     "data": {
      "text/plain": [
       "17"
      ]
     },
     "execution_count": 17,
     "metadata": {},
     "output_type": "execute_result"
    }
   ],
   "source": [
    "(3*4)+5"
   ]
  },
  {
   "cell_type": "markdown",
   "id": "ab0fce5c-4869-493d-947d-46f2ee0125df",
   "metadata": {},
   "source": [
    "This will convert 200 minutes to hours by diving by 60 <br>"
   ]
  },
  {
   "cell_type": "code",
   "execution_count": 21,
   "id": "8c04965b-409c-48f9-b841-910cd47873c7",
   "metadata": {},
   "outputs": [
    {
     "data": {
      "text/plain": [
       "3.3333333333333335"
      ]
     },
     "execution_count": 21,
     "metadata": {},
     "output_type": "execute_result"
    }
   ],
   "source": [
    "200 / 60"
   ]
  },
  {
   "cell_type": "markdown",
   "id": "8150bf5f-b010-4b07-9213-66e684b04d39",
   "metadata": {},
   "source": [
    "<h2> Author : Suyong Jeong </h2>"
   ]
  },
  {
   "cell_type": "markdown",
   "id": "03e7a391-75e7-4993-836b-709eb5011bcf",
   "metadata": {},
   "source": []
  }
 ],
 "metadata": {
  "kernelspec": {
   "display_name": "Python 3 (ipykernel)",
   "language": "python",
   "name": "python3"
  },
  "language_info": {
   "codemirror_mode": {
    "name": "ipython",
    "version": 3
   },
   "file_extension": ".py",
   "mimetype": "text/x-python",
   "name": "python",
   "nbconvert_exporter": "python",
   "pygments_lexer": "ipython3",
   "version": "3.12.4"
  }
 },
 "nbformat": 4,
 "nbformat_minor": 5
}
